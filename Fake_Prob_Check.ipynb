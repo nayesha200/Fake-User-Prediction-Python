{
 "cells": [
  {
   "cell_type": "markdown",
   "id": "fcfe9f68",
   "metadata": {},
   "source": [
    "# Adevinta Fake Probability Detection"
   ]
  },
  {
   "cell_type": "markdown",
   "id": "f096a5ed",
   "metadata": {},
   "source": [
    "#### Check for library requirements & install if missing"
   ]
  },
  {
   "cell_type": "code",
   "execution_count": 28,
   "id": "c5565294",
   "metadata": {},
   "outputs": [
    {
     "data": {
      "text/plain": [
       "[]"
      ]
     },
     "execution_count": 28,
     "metadata": {},
     "output_type": "execute_result"
    }
   ],
   "source": [
    "import sys\n",
    "import subprocess\n",
    "import importlib\n",
    "\n",
    "packages = ['pandas', 'numpy','pathlib','os','glob', 'textblob']\n",
    "[subprocess.check_call(['pip', 'install', pkg]) \n",
    "for pkg in packages if not importlib.util.find_spec(pkg)]"
   ]
  },
  {
   "cell_type": "code",
   "execution_count": 29,
   "id": "1f63788d",
   "metadata": {},
   "outputs": [],
   "source": [
    "#Import libraries\n",
    "import numpy as np # linear algebra\n",
    "import pandas as pd # data processing, CSV file I/O (e.g. pd.read_csv)\n",
    "pd.set_option('display.max_columns', None)\n",
    "import matplotlib.pyplot as plt #for visualization \n",
    "from sklearn.preprocessing import LabelEncoder\n",
    "from sklearn.model_selection import train_test_split\n",
    "from sklearn.ensemble import RandomForestClassifier\n",
    "from sklearn.metrics import accuracy_score\n",
    "import seaborn as sns\n",
    "import pickle\n",
    "\n",
    "# machine learning\n",
    "from sklearn.linear_model import LogisticRegression\n",
    "from sklearn.svm import SVC, LinearSVC\n",
    "from sklearn.ensemble import RandomForestClassifier\n",
    "from sklearn.neighbors import KNeighborsClassifier\n",
    "from sklearn.naive_bayes import GaussianNB\n",
    "from sklearn.linear_model import Perceptron\n",
    "from sklearn.linear_model import SGDClassifier\n",
    "from sklearn.tree import DecisionTreeClassifier"
   ]
  },
  {
   "cell_type": "code",
   "execution_count": 30,
   "id": "ef5518d3",
   "metadata": {},
   "outputs": [],
   "source": [
    "#Import train and test files as pandas dataframes and also drop default index column of pandas\n",
    "fake_users_train = pd.read_csv(\"C:/Users/HP PC/Desktop/CV/Interviews/Adveinta/fake_users.csv\", index_col=0)"
   ]
  },
  {
   "cell_type": "markdown",
   "id": "b810c149",
   "metadata": {},
   "source": [
    "### Analyze source data and verify if any Preprocessing/Data Cleaning is required"
   ]
  },
  {
   "cell_type": "code",
   "execution_count": 31,
   "id": "5b5cb62e",
   "metadata": {},
   "outputs": [
    {
     "name": "stdout",
     "output_type": "stream",
     "text": [
      "Overview of the dataset:\n",
      "\n",
      "Number of rows:  100473\n",
      "\n",
      "Number of features: 4\n",
      "\n",
      "Data Features:\n",
      "['UserId', 'Event', 'Category', 'Fake']\n",
      "\n",
      "Missing values: 0\n",
      "\n",
      "Unique values:\n",
      "UserId      5300\n",
      "Event          5\n",
      "Category       6\n",
      "Fake           2\n",
      "dtype: int64\n"
     ]
    }
   ],
   "source": [
    "#Check Overview of the Train data\n",
    "def dataoveriew(fake_users_train, message):\n",
    "    print(f'{message}:\\n')\n",
    "    print('Number of rows: ', fake_users_train.shape[0])\n",
    "    print(\"\\nNumber of features:\", fake_users_train.shape[1])\n",
    "    print(\"\\nData Features:\")\n",
    "    print(fake_users_train.columns.tolist())\n",
    "    print(\"\\nMissing values:\", fake_users_train.isnull().sum().values.sum())\n",
    "    print(\"\\nUnique values:\")\n",
    "    print(fake_users_train.nunique())\n",
    "    \n",
    "dataoveriew(fake_users_train, 'Overview of the dataset')"
   ]
  },
  {
   "cell_type": "code",
   "execution_count": 32,
   "id": "613856ac",
   "metadata": {},
   "outputs": [
    {
     "name": "stdout",
     "output_type": "stream",
     "text": [
      "<class 'pandas.core.frame.DataFrame'>\n",
      "Int64Index: 100473 entries, 0 to 100472\n",
      "Data columns (total 4 columns):\n",
      " #   Column    Non-Null Count   Dtype \n",
      "---  ------    --------------   ----- \n",
      " 0   UserId    100473 non-null  object\n",
      " 1   Event     100473 non-null  object\n",
      " 2   Category  100473 non-null  object\n",
      " 3   Fake      100473 non-null  int64 \n",
      "dtypes: int64(1), object(3)\n",
      "memory usage: 3.8+ MB\n"
     ]
    }
   ],
   "source": [
    "#Check train dataframe structure details\n",
    "fake_users_train.info()"
   ]
  },
  {
   "cell_type": "code",
   "execution_count": 33,
   "id": "a8ae7f33",
   "metadata": {},
   "outputs": [
    {
     "data": {
      "text/html": [
       "<div>\n",
       "<style scoped>\n",
       "    .dataframe tbody tr th:only-of-type {\n",
       "        vertical-align: middle;\n",
       "    }\n",
       "\n",
       "    .dataframe tbody tr th {\n",
       "        vertical-align: top;\n",
       "    }\n",
       "\n",
       "    .dataframe thead th {\n",
       "        text-align: right;\n",
       "    }\n",
       "</style>\n",
       "<table border=\"1\" class=\"dataframe\">\n",
       "  <thead>\n",
       "    <tr style=\"text-align: right;\">\n",
       "      <th></th>\n",
       "      <th>UserId</th>\n",
       "      <th>Event</th>\n",
       "      <th>Category</th>\n",
       "      <th>Fake</th>\n",
       "    </tr>\n",
       "  </thead>\n",
       "  <tbody>\n",
       "    <tr>\n",
       "      <th>0</th>\n",
       "      <td>F7A7BF3761</td>\n",
       "      <td>click_carrousel</td>\n",
       "      <td>Phone</td>\n",
       "      <td>0</td>\n",
       "    </tr>\n",
       "    <tr>\n",
       "      <th>1</th>\n",
       "      <td>BA8F7A71E6</td>\n",
       "      <td>send_sms</td>\n",
       "      <td>Motor</td>\n",
       "      <td>0</td>\n",
       "    </tr>\n",
       "    <tr>\n",
       "      <th>2</th>\n",
       "      <td>21C64F22FC</td>\n",
       "      <td>send_email</td>\n",
       "      <td>Jobs</td>\n",
       "      <td>0</td>\n",
       "    </tr>\n",
       "    <tr>\n",
       "      <th>3</th>\n",
       "      <td>F9E0306603</td>\n",
       "      <td>send_sms</td>\n",
       "      <td>Jobs</td>\n",
       "      <td>0</td>\n",
       "    </tr>\n",
       "    <tr>\n",
       "      <th>4</th>\n",
       "      <td>1B2143BACC</td>\n",
       "      <td>click_ad</td>\n",
       "      <td>Phone</td>\n",
       "      <td>0</td>\n",
       "    </tr>\n",
       "  </tbody>\n",
       "</table>\n",
       "</div>"
      ],
      "text/plain": [
       "       UserId            Event Category  Fake\n",
       "0  F7A7BF3761  click_carrousel    Phone     0\n",
       "1  BA8F7A71E6         send_sms    Motor     0\n",
       "2  21C64F22FC       send_email     Jobs     0\n",
       "3  F9E0306603         send_sms     Jobs     0\n",
       "4  1B2143BACC         click_ad    Phone     0"
      ]
     },
     "execution_count": 33,
     "metadata": {},
     "output_type": "execute_result"
    }
   ],
   "source": [
    "#Head and Tail on data to understand source details\n",
    "fake_users_train.head()"
   ]
  },
  {
   "cell_type": "code",
   "execution_count": 34,
   "id": "07e7de78",
   "metadata": {},
   "outputs": [
    {
     "data": {
      "text/html": [
       "<div>\n",
       "<style scoped>\n",
       "    .dataframe tbody tr th:only-of-type {\n",
       "        vertical-align: middle;\n",
       "    }\n",
       "\n",
       "    .dataframe tbody tr th {\n",
       "        vertical-align: top;\n",
       "    }\n",
       "\n",
       "    .dataframe thead th {\n",
       "        text-align: right;\n",
       "    }\n",
       "</style>\n",
       "<table border=\"1\" class=\"dataframe\">\n",
       "  <thead>\n",
       "    <tr style=\"text-align: right;\">\n",
       "      <th></th>\n",
       "      <th>UserId</th>\n",
       "      <th>Event</th>\n",
       "      <th>Category</th>\n",
       "      <th>Fake</th>\n",
       "    </tr>\n",
       "  </thead>\n",
       "  <tbody>\n",
       "    <tr>\n",
       "      <th>100468</th>\n",
       "      <td>6C3AC5DF4E</td>\n",
       "      <td>send_sms</td>\n",
       "      <td>Holidays</td>\n",
       "      <td>0</td>\n",
       "    </tr>\n",
       "    <tr>\n",
       "      <th>100469</th>\n",
       "      <td>22D57A742B</td>\n",
       "      <td>send_email</td>\n",
       "      <td>Leisure</td>\n",
       "      <td>0</td>\n",
       "    </tr>\n",
       "    <tr>\n",
       "      <th>100470</th>\n",
       "      <td>89AF1B90AD</td>\n",
       "      <td>phone_call</td>\n",
       "      <td>Real_State</td>\n",
       "      <td>0</td>\n",
       "    </tr>\n",
       "    <tr>\n",
       "      <th>100471</th>\n",
       "      <td>59115538F2</td>\n",
       "      <td>send_email</td>\n",
       "      <td>Jobs</td>\n",
       "      <td>0</td>\n",
       "    </tr>\n",
       "    <tr>\n",
       "      <th>100472</th>\n",
       "      <td>3A96C1B4ED</td>\n",
       "      <td>send_sms</td>\n",
       "      <td>Motor</td>\n",
       "      <td>0</td>\n",
       "    </tr>\n",
       "  </tbody>\n",
       "</table>\n",
       "</div>"
      ],
      "text/plain": [
       "            UserId       Event    Category  Fake\n",
       "100468  6C3AC5DF4E    send_sms    Holidays     0\n",
       "100469  22D57A742B  send_email     Leisure     0\n",
       "100470  89AF1B90AD  phone_call  Real_State     0\n",
       "100471  59115538F2  send_email        Jobs     0\n",
       "100472  3A96C1B4ED    send_sms       Motor     0"
      ]
     },
     "execution_count": 34,
     "metadata": {},
     "output_type": "execute_result"
    }
   ],
   "source": [
    "fake_users_train.tail()"
   ]
  },
  {
   "cell_type": "markdown",
   "id": "a035c6ad",
   "metadata": {},
   "source": [
    "### There are no Nulls in any of the field, and UserID is alphanumeric(Which reuires label encoding) hence we can conclude that Data is clean. No need of additional Preprocessing"
   ]
  },
  {
   "cell_type": "code",
   "execution_count": 35,
   "id": "7ba50965",
   "metadata": {},
   "outputs": [
    {
     "data": {
      "text/html": [
       "<div>\n",
       "<style scoped>\n",
       "    .dataframe tbody tr th:only-of-type {\n",
       "        vertical-align: middle;\n",
       "    }\n",
       "\n",
       "    .dataframe tbody tr th {\n",
       "        vertical-align: top;\n",
       "    }\n",
       "\n",
       "    .dataframe thead th {\n",
       "        text-align: right;\n",
       "    }\n",
       "</style>\n",
       "<table border=\"1\" class=\"dataframe\">\n",
       "  <thead>\n",
       "    <tr style=\"text-align: right;\">\n",
       "      <th></th>\n",
       "      <th>Fake</th>\n",
       "    </tr>\n",
       "    <tr>\n",
       "      <th>Event</th>\n",
       "      <th></th>\n",
       "    </tr>\n",
       "  </thead>\n",
       "  <tbody>\n",
       "    <tr>\n",
       "      <th>click_ad</th>\n",
       "      <td>4213</td>\n",
       "    </tr>\n",
       "    <tr>\n",
       "      <th>click_carrousel</th>\n",
       "      <td>540</td>\n",
       "    </tr>\n",
       "    <tr>\n",
       "      <th>phone_call</th>\n",
       "      <td>491</td>\n",
       "    </tr>\n",
       "    <tr>\n",
       "      <th>send_email</th>\n",
       "      <td>4600</td>\n",
       "    </tr>\n",
       "    <tr>\n",
       "      <th>send_sms</th>\n",
       "      <td>515</td>\n",
       "    </tr>\n",
       "  </tbody>\n",
       "</table>\n",
       "</div>"
      ],
      "text/plain": [
       "                 Fake\n",
       "Event                \n",
       "click_ad         4213\n",
       "click_carrousel   540\n",
       "phone_call        491\n",
       "send_email       4600\n",
       "send_sms          515"
      ]
     },
     "execution_count": 35,
     "metadata": {},
     "output_type": "execute_result"
    }
   ],
   "source": [
    "#verify record count for Each Event\n",
    "fake_users_train.groupby('Event').sum()"
   ]
  },
  {
   "cell_type": "code",
   "execution_count": 36,
   "id": "af717da3",
   "metadata": {},
   "outputs": [
    {
     "data": {
      "text/html": [
       "<div>\n",
       "<style scoped>\n",
       "    .dataframe tbody tr th:only-of-type {\n",
       "        vertical-align: middle;\n",
       "    }\n",
       "\n",
       "    .dataframe tbody tr th {\n",
       "        vertical-align: top;\n",
       "    }\n",
       "\n",
       "    .dataframe thead th {\n",
       "        text-align: right;\n",
       "    }\n",
       "</style>\n",
       "<table border=\"1\" class=\"dataframe\">\n",
       "  <thead>\n",
       "    <tr style=\"text-align: right;\">\n",
       "      <th></th>\n",
       "      <th>Fake</th>\n",
       "    </tr>\n",
       "    <tr>\n",
       "      <th>Category</th>\n",
       "      <th></th>\n",
       "    </tr>\n",
       "  </thead>\n",
       "  <tbody>\n",
       "    <tr>\n",
       "      <th>Holidays</th>\n",
       "      <td>1703</td>\n",
       "    </tr>\n",
       "    <tr>\n",
       "      <th>Jobs</th>\n",
       "      <td>1698</td>\n",
       "    </tr>\n",
       "    <tr>\n",
       "      <th>Leisure</th>\n",
       "      <td>1639</td>\n",
       "    </tr>\n",
       "    <tr>\n",
       "      <th>Motor</th>\n",
       "      <td>1718</td>\n",
       "    </tr>\n",
       "    <tr>\n",
       "      <th>Phone</th>\n",
       "      <td>1782</td>\n",
       "    </tr>\n",
       "    <tr>\n",
       "      <th>Real_State</th>\n",
       "      <td>1819</td>\n",
       "    </tr>\n",
       "  </tbody>\n",
       "</table>\n",
       "</div>"
      ],
      "text/plain": [
       "            Fake\n",
       "Category        \n",
       "Holidays    1703\n",
       "Jobs        1698\n",
       "Leisure     1639\n",
       "Motor       1718\n",
       "Phone       1782\n",
       "Real_State  1819"
      ]
     },
     "execution_count": 36,
     "metadata": {},
     "output_type": "execute_result"
    }
   ],
   "source": [
    "#Verify record Event for Each category\n",
    "fake_users_train.groupby('Category').sum()"
   ]
  },
  {
   "cell_type": "code",
   "execution_count": 37,
   "id": "cf53787a",
   "metadata": {},
   "outputs": [
    {
     "data": {
      "text/html": [
       "<div>\n",
       "<style scoped>\n",
       "    .dataframe tbody tr th:only-of-type {\n",
       "        vertical-align: middle;\n",
       "    }\n",
       "\n",
       "    .dataframe tbody tr th {\n",
       "        vertical-align: top;\n",
       "    }\n",
       "\n",
       "    .dataframe thead th {\n",
       "        text-align: right;\n",
       "    }\n",
       "</style>\n",
       "<table border=\"1\" class=\"dataframe\">\n",
       "  <thead>\n",
       "    <tr style=\"text-align: right;\">\n",
       "      <th></th>\n",
       "      <th>UserId</th>\n",
       "      <th>Category</th>\n",
       "      <th>Event</th>\n",
       "    </tr>\n",
       "  </thead>\n",
       "  <tbody>\n",
       "    <tr>\n",
       "      <th>count</th>\n",
       "      <td>100473</td>\n",
       "      <td>100473</td>\n",
       "      <td>100473</td>\n",
       "    </tr>\n",
       "    <tr>\n",
       "      <th>unique</th>\n",
       "      <td>5300</td>\n",
       "      <td>6</td>\n",
       "      <td>5</td>\n",
       "    </tr>\n",
       "    <tr>\n",
       "      <th>top</th>\n",
       "      <td>8DD78A5F77</td>\n",
       "      <td>Motor</td>\n",
       "      <td>send_email</td>\n",
       "    </tr>\n",
       "    <tr>\n",
       "      <th>freq</th>\n",
       "      <td>49</td>\n",
       "      <td>16987</td>\n",
       "      <td>22822</td>\n",
       "    </tr>\n",
       "  </tbody>\n",
       "</table>\n",
       "</div>"
      ],
      "text/plain": [
       "            UserId Category       Event\n",
       "count       100473   100473      100473\n",
       "unique        5300        6           5\n",
       "top     8DD78A5F77    Motor  send_email\n",
       "freq            49    16987       22822"
      ]
     },
     "execution_count": 37,
     "metadata": {},
     "output_type": "execute_result"
    }
   ],
   "source": [
    "#Let's check Unique values\n",
    "object_variables = ['UserId','Category','Event']\n",
    "fake_users_train[object_variables].describe(include=['O'])"
   ]
  },
  {
   "cell_type": "markdown",
   "id": "de42c268",
   "metadata": {},
   "source": [
    "### Apply Label Encoding to Alphanumeric variables and one-Hot encoding to categorical variables"
   ]
  },
  {
   "cell_type": "code",
   "execution_count": 38,
   "id": "552c4d37",
   "metadata": {},
   "outputs": [
    {
     "data": {
      "text/html": [
       "<div>\n",
       "<style scoped>\n",
       "    .dataframe tbody tr th:only-of-type {\n",
       "        vertical-align: middle;\n",
       "    }\n",
       "\n",
       "    .dataframe tbody tr th {\n",
       "        vertical-align: top;\n",
       "    }\n",
       "\n",
       "    .dataframe thead th {\n",
       "        text-align: right;\n",
       "    }\n",
       "</style>\n",
       "<table border=\"1\" class=\"dataframe\">\n",
       "  <thead>\n",
       "    <tr style=\"text-align: right;\">\n",
       "      <th></th>\n",
       "      <th>UserId</th>\n",
       "      <th>Category</th>\n",
       "      <th>Fake</th>\n",
       "      <th>click_ad</th>\n",
       "      <th>click_carrousel</th>\n",
       "      <th>phone_call</th>\n",
       "      <th>send_email</th>\n",
       "      <th>send_sms</th>\n",
       "    </tr>\n",
       "  </thead>\n",
       "  <tbody>\n",
       "    <tr>\n",
       "      <th>0</th>\n",
       "      <td>F7A7BF3761</td>\n",
       "      <td>Phone</td>\n",
       "      <td>0</td>\n",
       "      <td>0</td>\n",
       "      <td>1</td>\n",
       "      <td>0</td>\n",
       "      <td>0</td>\n",
       "      <td>0</td>\n",
       "    </tr>\n",
       "    <tr>\n",
       "      <th>1</th>\n",
       "      <td>BA8F7A71E6</td>\n",
       "      <td>Motor</td>\n",
       "      <td>0</td>\n",
       "      <td>0</td>\n",
       "      <td>0</td>\n",
       "      <td>0</td>\n",
       "      <td>0</td>\n",
       "      <td>1</td>\n",
       "    </tr>\n",
       "    <tr>\n",
       "      <th>2</th>\n",
       "      <td>21C64F22FC</td>\n",
       "      <td>Jobs</td>\n",
       "      <td>0</td>\n",
       "      <td>0</td>\n",
       "      <td>0</td>\n",
       "      <td>0</td>\n",
       "      <td>1</td>\n",
       "      <td>0</td>\n",
       "    </tr>\n",
       "    <tr>\n",
       "      <th>3</th>\n",
       "      <td>F9E0306603</td>\n",
       "      <td>Jobs</td>\n",
       "      <td>0</td>\n",
       "      <td>0</td>\n",
       "      <td>0</td>\n",
       "      <td>0</td>\n",
       "      <td>0</td>\n",
       "      <td>1</td>\n",
       "    </tr>\n",
       "    <tr>\n",
       "      <th>4</th>\n",
       "      <td>1B2143BACC</td>\n",
       "      <td>Phone</td>\n",
       "      <td>0</td>\n",
       "      <td>1</td>\n",
       "      <td>0</td>\n",
       "      <td>0</td>\n",
       "      <td>0</td>\n",
       "      <td>0</td>\n",
       "    </tr>\n",
       "  </tbody>\n",
       "</table>\n",
       "</div>"
      ],
      "text/plain": [
       "       UserId Category  Fake  click_ad  click_carrousel  phone_call  \\\n",
       "0  F7A7BF3761    Phone     0         0                1           0   \n",
       "1  BA8F7A71E6    Motor     0         0                0           0   \n",
       "2  21C64F22FC     Jobs     0         0                0           0   \n",
       "3  F9E0306603     Jobs     0         0                0           0   \n",
       "4  1B2143BACC    Phone     0         1                0           0   \n",
       "\n",
       "   send_email  send_sms  \n",
       "0           0         0  \n",
       "1           0         1  \n",
       "2           1         0  \n",
       "3           0         1  \n",
       "4           0         0  "
      ]
     },
     "execution_count": 38,
     "metadata": {},
     "output_type": "execute_result"
    }
   ],
   "source": [
    "#Applying One Hot encoding for the Event Column to convert categorical feature as on-hot numeric data\n",
    "train_data = pd.get_dummies(fake_users_train['Event'])\n",
    "train_data.columns = ['click_ad', 'click_carrousel', 'phone_call','send_email','send_sms']\n",
    "train_data = fake_users_train.join(train_data)\n",
    "train_data.drop('Event', axis=1, inplace=True)\n",
    "train_data.head()"
   ]
  },
  {
   "cell_type": "code",
   "execution_count": 39,
   "id": "46c23b16",
   "metadata": {},
   "outputs": [
    {
     "data": {
      "text/html": [
       "<div>\n",
       "<style scoped>\n",
       "    .dataframe tbody tr th:only-of-type {\n",
       "        vertical-align: middle;\n",
       "    }\n",
       "\n",
       "    .dataframe tbody tr th {\n",
       "        vertical-align: top;\n",
       "    }\n",
       "\n",
       "    .dataframe thead th {\n",
       "        text-align: right;\n",
       "    }\n",
       "</style>\n",
       "<table border=\"1\" class=\"dataframe\">\n",
       "  <thead>\n",
       "    <tr style=\"text-align: right;\">\n",
       "      <th></th>\n",
       "      <th>UserId</th>\n",
       "      <th>Fake</th>\n",
       "      <th>click_ad</th>\n",
       "      <th>click_carrousel</th>\n",
       "      <th>phone_call</th>\n",
       "      <th>send_email</th>\n",
       "      <th>send_sms</th>\n",
       "      <th>Phone</th>\n",
       "      <th>Motor</th>\n",
       "      <th>Jobs</th>\n",
       "      <th>Holidays</th>\n",
       "      <th>Leisure</th>\n",
       "      <th>Real_State</th>\n",
       "    </tr>\n",
       "  </thead>\n",
       "  <tbody>\n",
       "    <tr>\n",
       "      <th>0</th>\n",
       "      <td>F7A7BF3761</td>\n",
       "      <td>0</td>\n",
       "      <td>0</td>\n",
       "      <td>1</td>\n",
       "      <td>0</td>\n",
       "      <td>0</td>\n",
       "      <td>0</td>\n",
       "      <td>0</td>\n",
       "      <td>0</td>\n",
       "      <td>0</td>\n",
       "      <td>0</td>\n",
       "      <td>1</td>\n",
       "      <td>0</td>\n",
       "    </tr>\n",
       "    <tr>\n",
       "      <th>1</th>\n",
       "      <td>BA8F7A71E6</td>\n",
       "      <td>0</td>\n",
       "      <td>0</td>\n",
       "      <td>0</td>\n",
       "      <td>0</td>\n",
       "      <td>0</td>\n",
       "      <td>1</td>\n",
       "      <td>0</td>\n",
       "      <td>0</td>\n",
       "      <td>0</td>\n",
       "      <td>1</td>\n",
       "      <td>0</td>\n",
       "      <td>0</td>\n",
       "    </tr>\n",
       "    <tr>\n",
       "      <th>2</th>\n",
       "      <td>21C64F22FC</td>\n",
       "      <td>0</td>\n",
       "      <td>0</td>\n",
       "      <td>0</td>\n",
       "      <td>0</td>\n",
       "      <td>1</td>\n",
       "      <td>0</td>\n",
       "      <td>0</td>\n",
       "      <td>1</td>\n",
       "      <td>0</td>\n",
       "      <td>0</td>\n",
       "      <td>0</td>\n",
       "      <td>0</td>\n",
       "    </tr>\n",
       "    <tr>\n",
       "      <th>3</th>\n",
       "      <td>F9E0306603</td>\n",
       "      <td>0</td>\n",
       "      <td>0</td>\n",
       "      <td>0</td>\n",
       "      <td>0</td>\n",
       "      <td>0</td>\n",
       "      <td>1</td>\n",
       "      <td>0</td>\n",
       "      <td>1</td>\n",
       "      <td>0</td>\n",
       "      <td>0</td>\n",
       "      <td>0</td>\n",
       "      <td>0</td>\n",
       "    </tr>\n",
       "    <tr>\n",
       "      <th>4</th>\n",
       "      <td>1B2143BACC</td>\n",
       "      <td>0</td>\n",
       "      <td>1</td>\n",
       "      <td>0</td>\n",
       "      <td>0</td>\n",
       "      <td>0</td>\n",
       "      <td>0</td>\n",
       "      <td>0</td>\n",
       "      <td>0</td>\n",
       "      <td>0</td>\n",
       "      <td>0</td>\n",
       "      <td>1</td>\n",
       "      <td>0</td>\n",
       "    </tr>\n",
       "  </tbody>\n",
       "</table>\n",
       "</div>"
      ],
      "text/plain": [
       "       UserId  Fake  click_ad  click_carrousel  phone_call  send_email  \\\n",
       "0  F7A7BF3761     0         0                1           0           0   \n",
       "1  BA8F7A71E6     0         0                0           0           0   \n",
       "2  21C64F22FC     0         0                0           0           1   \n",
       "3  F9E0306603     0         0                0           0           0   \n",
       "4  1B2143BACC     0         1                0           0           0   \n",
       "\n",
       "   send_sms  Phone  Motor  Jobs  Holidays  Leisure  Real_State  \n",
       "0         0      0      0     0         0        1           0  \n",
       "1         1      0      0     0         1        0           0  \n",
       "2         0      0      1     0         0        0           0  \n",
       "3         1      0      1     0         0        0           0  \n",
       "4         0      0      0     0         0        1           0  "
      ]
     },
     "execution_count": 39,
     "metadata": {},
     "output_type": "execute_result"
    }
   ],
   "source": [
    "#Applying One Hot encoding for the Category Column\n",
    "train_data_cat = pd.get_dummies(fake_users_train['Category'])\n",
    "train_data_cat.columns = ['Phone', 'Motor', 'Jobs','Holidays','Leisure','Real_State']\n",
    "train_data = train_data.join(train_data_cat)\n",
    "train_data.drop('Category', axis=1, inplace=True)\n",
    "train_data.head()"
   ]
  },
  {
   "cell_type": "code",
   "execution_count": 40,
   "id": "e84ce787",
   "metadata": {},
   "outputs": [
    {
     "data": {
      "text/html": [
       "<div>\n",
       "<style scoped>\n",
       "    .dataframe tbody tr th:only-of-type {\n",
       "        vertical-align: middle;\n",
       "    }\n",
       "\n",
       "    .dataframe tbody tr th {\n",
       "        vertical-align: top;\n",
       "    }\n",
       "\n",
       "    .dataframe thead th {\n",
       "        text-align: right;\n",
       "    }\n",
       "</style>\n",
       "<table border=\"1\" class=\"dataframe\">\n",
       "  <thead>\n",
       "    <tr style=\"text-align: right;\">\n",
       "      <th></th>\n",
       "      <th>UserId</th>\n",
       "      <th>Fake</th>\n",
       "      <th>click_ad</th>\n",
       "      <th>click_carrousel</th>\n",
       "      <th>phone_call</th>\n",
       "      <th>send_email</th>\n",
       "      <th>send_sms</th>\n",
       "      <th>Phone</th>\n",
       "      <th>Motor</th>\n",
       "      <th>Jobs</th>\n",
       "      <th>Holidays</th>\n",
       "      <th>Leisure</th>\n",
       "      <th>Real_State</th>\n",
       "      <th>UserId_code</th>\n",
       "    </tr>\n",
       "  </thead>\n",
       "  <tbody>\n",
       "    <tr>\n",
       "      <th>0</th>\n",
       "      <td>F7A7BF3761</td>\n",
       "      <td>0</td>\n",
       "      <td>0</td>\n",
       "      <td>1</td>\n",
       "      <td>0</td>\n",
       "      <td>0</td>\n",
       "      <td>0</td>\n",
       "      <td>0</td>\n",
       "      <td>0</td>\n",
       "      <td>0</td>\n",
       "      <td>0</td>\n",
       "      <td>1</td>\n",
       "      <td>0</td>\n",
       "      <td>5110</td>\n",
       "    </tr>\n",
       "    <tr>\n",
       "      <th>1</th>\n",
       "      <td>BA8F7A71E6</td>\n",
       "      <td>0</td>\n",
       "      <td>0</td>\n",
       "      <td>0</td>\n",
       "      <td>0</td>\n",
       "      <td>0</td>\n",
       "      <td>1</td>\n",
       "      <td>0</td>\n",
       "      <td>0</td>\n",
       "      <td>0</td>\n",
       "      <td>1</td>\n",
       "      <td>0</td>\n",
       "      <td>0</td>\n",
       "      <td>3915</td>\n",
       "    </tr>\n",
       "    <tr>\n",
       "      <th>2</th>\n",
       "      <td>21C64F22FC</td>\n",
       "      <td>0</td>\n",
       "      <td>0</td>\n",
       "      <td>0</td>\n",
       "      <td>0</td>\n",
       "      <td>1</td>\n",
       "      <td>0</td>\n",
       "      <td>0</td>\n",
       "      <td>1</td>\n",
       "      <td>0</td>\n",
       "      <td>0</td>\n",
       "      <td>0</td>\n",
       "      <td>0</td>\n",
       "      <td>743</td>\n",
       "    </tr>\n",
       "    <tr>\n",
       "      <th>3</th>\n",
       "      <td>F9E0306603</td>\n",
       "      <td>0</td>\n",
       "      <td>0</td>\n",
       "      <td>0</td>\n",
       "      <td>0</td>\n",
       "      <td>0</td>\n",
       "      <td>1</td>\n",
       "      <td>0</td>\n",
       "      <td>1</td>\n",
       "      <td>0</td>\n",
       "      <td>0</td>\n",
       "      <td>0</td>\n",
       "      <td>0</td>\n",
       "      <td>5163</td>\n",
       "    </tr>\n",
       "    <tr>\n",
       "      <th>4</th>\n",
       "      <td>1B2143BACC</td>\n",
       "      <td>0</td>\n",
       "      <td>1</td>\n",
       "      <td>0</td>\n",
       "      <td>0</td>\n",
       "      <td>0</td>\n",
       "      <td>0</td>\n",
       "      <td>0</td>\n",
       "      <td>0</td>\n",
       "      <td>0</td>\n",
       "      <td>0</td>\n",
       "      <td>1</td>\n",
       "      <td>0</td>\n",
       "      <td>575</td>\n",
       "    </tr>\n",
       "  </tbody>\n",
       "</table>\n",
       "</div>"
      ],
      "text/plain": [
       "       UserId  Fake  click_ad  click_carrousel  phone_call  send_email  \\\n",
       "0  F7A7BF3761     0         0                1           0           0   \n",
       "1  BA8F7A71E6     0         0                0           0           0   \n",
       "2  21C64F22FC     0         0                0           0           1   \n",
       "3  F9E0306603     0         0                0           0           0   \n",
       "4  1B2143BACC     0         1                0           0           0   \n",
       "\n",
       "   send_sms  Phone  Motor  Jobs  Holidays  Leisure  Real_State  UserId_code  \n",
       "0         0      0      0     0         0        1           0         5110  \n",
       "1         1      0      0     0         1        0           0         3915  \n",
       "2         0      0      1     0         0        0           0          743  \n",
       "3         1      0      1     0         0        0           0         5163  \n",
       "4         0      0      0     0         0        1           0          575  "
      ]
     },
     "execution_count": 40,
     "metadata": {},
     "output_type": "execute_result"
    }
   ],
   "source": [
    "#LabelEncode the UserId column because UserId is a string whichcannot be used for model development\n",
    "from sklearn.preprocessing import LabelEncoder\n",
    "lb_make = LabelEncoder()\n",
    "train_data[\"UserId_code\"] = lb_make.fit_transform(train_data[\"UserId\"])\n",
    "train_data.head(5)"
   ]
  },
  {
   "cell_type": "code",
   "execution_count": 41,
   "id": "c8d76853",
   "metadata": {},
   "outputs": [
    {
     "data": {
      "text/plain": [
       "<AxesSubplot:xlabel='click_ad', ylabel='count'>"
      ]
     },
     "execution_count": 41,
     "metadata": {},
     "output_type": "execute_result"
    },
    {
     "data": {
      "image/png": "[encoded data removed]",
      "text/plain": [
       "<Figure size 432x288 with 1 Axes>"
      ]
     },
     "metadata": {
      "needs_background": "light"
     },
     "output_type": "display_data"
    }
   ],
   "source": [
    "#Visualize target ariable click_ad\n",
    "sns.countplot(x = 'click_ad', data = train_data)"
   ]
  },
  {
   "cell_type": "code",
   "execution_count": 42,
   "id": "31842574",
   "metadata": {},
   "outputs": [
    {
     "data": {
      "text/plain": [
       "<AxesSubplot:xlabel='send_email', ylabel='count'>"
      ]
     },
     "execution_count": 42,
     "metadata": {},
     "output_type": "execute_result"
    },
    {
     "data": {
      "image/png": "[encoded data removed]",
      "text/plain": [
       "<Figure size 432x288 with 1 Axes>"
      ]
     },
     "metadata": {
      "needs_background": "light"
     },
     "output_type": "display_data"
    }
   ],
   "source": [
    "#Visualize target ariable send_email\n",
    "sns.countplot(x = 'send_email', data = train_data)"
   ]
  },
  {
   "cell_type": "markdown",
   "id": "b5ba65db",
   "metadata": {},
   "source": [
    "### Read Test File And apply necessary conversions to Test file as well"
   ]
  },
  {
   "cell_type": "code",
   "execution_count": 43,
   "id": "7aaa8876",
   "metadata": {},
   "outputs": [
    {
     "data": {
      "text/html": [
       "<div>\n",
       "<style scoped>\n",
       "    .dataframe tbody tr th:only-of-type {\n",
       "        vertical-align: middle;\n",
       "    }\n",
       "\n",
       "    .dataframe tbody tr th {\n",
       "        vertical-align: top;\n",
       "    }\n",
       "\n",
       "    .dataframe thead th {\n",
       "        text-align: right;\n",
       "    }\n",
       "</style>\n",
       "<table border=\"1\" class=\"dataframe\">\n",
       "  <thead>\n",
       "    <tr style=\"text-align: right;\">\n",
       "      <th></th>\n",
       "      <th>UserId</th>\n",
       "      <th>Event</th>\n",
       "      <th>Category</th>\n",
       "      <th>Fake</th>\n",
       "    </tr>\n",
       "  </thead>\n",
       "  <tbody>\n",
       "    <tr>\n",
       "      <th>0</th>\n",
       "      <td>03E7EE785DT</td>\n",
       "      <td>click_carrousel</td>\n",
       "      <td>Phone</td>\n",
       "      <td>0</td>\n",
       "    </tr>\n",
       "    <tr>\n",
       "      <th>1</th>\n",
       "      <td>F0F3098683T</td>\n",
       "      <td>click_ad</td>\n",
       "      <td>Leisure</td>\n",
       "      <td>0</td>\n",
       "    </tr>\n",
       "    <tr>\n",
       "      <th>2</th>\n",
       "      <td>5064A38F0DT</td>\n",
       "      <td>click_carrousel</td>\n",
       "      <td>Phone</td>\n",
       "      <td>0</td>\n",
       "    </tr>\n",
       "    <tr>\n",
       "      <th>3</th>\n",
       "      <td>5C8E90A354T</td>\n",
       "      <td>click_carrousel</td>\n",
       "      <td>Motor</td>\n",
       "      <td>0</td>\n",
       "    </tr>\n",
       "    <tr>\n",
       "      <th>4</th>\n",
       "      <td>DC1F29D286T</td>\n",
       "      <td>send_sms</td>\n",
       "      <td>Motor</td>\n",
       "      <td>0</td>\n",
       "    </tr>\n",
       "  </tbody>\n",
       "</table>\n",
       "</div>"
      ],
      "text/plain": [
       "        UserId            Event Category  Fake\n",
       "0  03E7EE785DT  click_carrousel    Phone     0\n",
       "1  F0F3098683T         click_ad  Leisure     0\n",
       "2  5064A38F0DT  click_carrousel    Phone     0\n",
       "3  5C8E90A354T  click_carrousel    Motor     0\n",
       "4  DC1F29D286T         send_sms    Motor     0"
      ]
     },
     "execution_count": 43,
     "metadata": {},
     "output_type": "execute_result"
    }
   ],
   "source": [
    "#Read users test file\n",
    "fake_users_test = pd.read_csv(\"C:/Users/HP PC/Desktop/CV/Interviews/Adveinta/fake_users_test.csv\")\n",
    "fake_users_test.head()"
   ]
  },
  {
   "cell_type": "code",
   "execution_count": 44,
   "id": "7383b29d",
   "metadata": {},
   "outputs": [],
   "source": [
    "#Apply Label encoding to UsersId and one hot encoding to click_ad column\n",
    "\n",
    "#Applying One Hot encoding for the Event Column\n",
    "test_data = pd.get_dummies(fake_users_test['Event'])\n",
    "test_data.columns = ['click_ad', 'click_carrousel', 'phone_call','send_email','send_sms']\n",
    "test_data = fake_users_test.join(test_data)\n",
    "test_data.drop('Event', axis=1, inplace=True)"
   ]
  },
  {
   "cell_type": "code",
   "execution_count": 45,
   "id": "844427ad",
   "metadata": {},
   "outputs": [
    {
     "data": {
      "text/html": [
       "<div>\n",
       "<style scoped>\n",
       "    .dataframe tbody tr th:only-of-type {\n",
       "        vertical-align: middle;\n",
       "    }\n",
       "\n",
       "    .dataframe tbody tr th {\n",
       "        vertical-align: top;\n",
       "    }\n",
       "\n",
       "    .dataframe thead th {\n",
       "        text-align: right;\n",
       "    }\n",
       "</style>\n",
       "<table border=\"1\" class=\"dataframe\">\n",
       "  <thead>\n",
       "    <tr style=\"text-align: right;\">\n",
       "      <th></th>\n",
       "      <th>UserId</th>\n",
       "      <th>Fake</th>\n",
       "      <th>click_ad</th>\n",
       "      <th>click_carrousel</th>\n",
       "      <th>phone_call</th>\n",
       "      <th>send_email</th>\n",
       "      <th>send_sms</th>\n",
       "      <th>Phone</th>\n",
       "      <th>Motor</th>\n",
       "      <th>Jobs</th>\n",
       "      <th>Holidays</th>\n",
       "      <th>Leisure</th>\n",
       "      <th>Real_State</th>\n",
       "    </tr>\n",
       "  </thead>\n",
       "  <tbody>\n",
       "    <tr>\n",
       "      <th>0</th>\n",
       "      <td>03E7EE785DT</td>\n",
       "      <td>0</td>\n",
       "      <td>0</td>\n",
       "      <td>1</td>\n",
       "      <td>0</td>\n",
       "      <td>0</td>\n",
       "      <td>0</td>\n",
       "      <td>0</td>\n",
       "      <td>0</td>\n",
       "      <td>0</td>\n",
       "      <td>0</td>\n",
       "      <td>1</td>\n",
       "      <td>0</td>\n",
       "    </tr>\n",
       "    <tr>\n",
       "      <th>1</th>\n",
       "      <td>F0F3098683T</td>\n",
       "      <td>0</td>\n",
       "      <td>1</td>\n",
       "      <td>0</td>\n",
       "      <td>0</td>\n",
       "      <td>0</td>\n",
       "      <td>0</td>\n",
       "      <td>0</td>\n",
       "      <td>0</td>\n",
       "      <td>1</td>\n",
       "      <td>0</td>\n",
       "      <td>0</td>\n",
       "      <td>0</td>\n",
       "    </tr>\n",
       "    <tr>\n",
       "      <th>2</th>\n",
       "      <td>5064A38F0DT</td>\n",
       "      <td>0</td>\n",
       "      <td>0</td>\n",
       "      <td>1</td>\n",
       "      <td>0</td>\n",
       "      <td>0</td>\n",
       "      <td>0</td>\n",
       "      <td>0</td>\n",
       "      <td>0</td>\n",
       "      <td>0</td>\n",
       "      <td>0</td>\n",
       "      <td>1</td>\n",
       "      <td>0</td>\n",
       "    </tr>\n",
       "    <tr>\n",
       "      <th>3</th>\n",
       "      <td>5C8E90A354T</td>\n",
       "      <td>0</td>\n",
       "      <td>0</td>\n",
       "      <td>1</td>\n",
       "      <td>0</td>\n",
       "      <td>0</td>\n",
       "      <td>0</td>\n",
       "      <td>0</td>\n",
       "      <td>0</td>\n",
       "      <td>0</td>\n",
       "      <td>1</td>\n",
       "      <td>0</td>\n",
       "      <td>0</td>\n",
       "    </tr>\n",
       "    <tr>\n",
       "      <th>4</th>\n",
       "      <td>DC1F29D286T</td>\n",
       "      <td>0</td>\n",
       "      <td>0</td>\n",
       "      <td>0</td>\n",
       "      <td>0</td>\n",
       "      <td>0</td>\n",
       "      <td>1</td>\n",
       "      <td>0</td>\n",
       "      <td>0</td>\n",
       "      <td>0</td>\n",
       "      <td>1</td>\n",
       "      <td>0</td>\n",
       "      <td>0</td>\n",
       "    </tr>\n",
       "  </tbody>\n",
       "</table>\n",
       "</div>"
      ],
      "text/plain": [
       "        UserId  Fake  click_ad  click_carrousel  phone_call  send_email  \\\n",
       "0  03E7EE785DT     0         0                1           0           0   \n",
       "1  F0F3098683T     0         1                0           0           0   \n",
       "2  5064A38F0DT     0         0                1           0           0   \n",
       "3  5C8E90A354T     0         0                1           0           0   \n",
       "4  DC1F29D286T     0         0                0           0           0   \n",
       "\n",
       "   send_sms  Phone  Motor  Jobs  Holidays  Leisure  Real_State  \n",
       "0         0      0      0     0         0        1           0  \n",
       "1         0      0      0     1         0        0           0  \n",
       "2         0      0      0     0         0        1           0  \n",
       "3         0      0      0     0         1        0           0  \n",
       "4         1      0      0     0         1        0           0  "
      ]
     },
     "execution_count": 45,
     "metadata": {},
     "output_type": "execute_result"
    }
   ],
   "source": [
    "#Applying One Hot encoding for the Category Column\n",
    "test_data_cat = pd.get_dummies(fake_users_test['Category'])\n",
    "test_data_cat.columns = ['Phone', 'Motor', 'Jobs','Holidays','Leisure','Real_State']\n",
    "test_data = test_data.join(test_data_cat)\n",
    "test_data.drop('Category', axis=1, inplace=True)\n",
    "test_data.head()"
   ]
  },
  {
   "cell_type": "code",
   "execution_count": 46,
   "id": "97f22ff8",
   "metadata": {},
   "outputs": [
    {
     "data": {
      "text/html": [
       "<div>\n",
       "<style scoped>\n",
       "    .dataframe tbody tr th:only-of-type {\n",
       "        vertical-align: middle;\n",
       "    }\n",
       "\n",
       "    .dataframe tbody tr th {\n",
       "        vertical-align: top;\n",
       "    }\n",
       "\n",
       "    .dataframe thead th {\n",
       "        text-align: right;\n",
       "    }\n",
       "</style>\n",
       "<table border=\"1\" class=\"dataframe\">\n",
       "  <thead>\n",
       "    <tr style=\"text-align: right;\">\n",
       "      <th></th>\n",
       "      <th>UserId</th>\n",
       "      <th>Fake</th>\n",
       "      <th>click_ad</th>\n",
       "      <th>click_carrousel</th>\n",
       "      <th>phone_call</th>\n",
       "      <th>send_email</th>\n",
       "      <th>send_sms</th>\n",
       "      <th>Phone</th>\n",
       "      <th>Motor</th>\n",
       "      <th>Jobs</th>\n",
       "      <th>Holidays</th>\n",
       "      <th>Leisure</th>\n",
       "      <th>Real_State</th>\n",
       "      <th>UserId_code</th>\n",
       "    </tr>\n",
       "  </thead>\n",
       "  <tbody>\n",
       "    <tr>\n",
       "      <th>0</th>\n",
       "      <td>03E7EE785DT</td>\n",
       "      <td>0</td>\n",
       "      <td>0</td>\n",
       "      <td>1</td>\n",
       "      <td>0</td>\n",
       "      <td>0</td>\n",
       "      <td>0</td>\n",
       "      <td>0</td>\n",
       "      <td>0</td>\n",
       "      <td>0</td>\n",
       "      <td>0</td>\n",
       "      <td>1</td>\n",
       "      <td>0</td>\n",
       "      <td>1</td>\n",
       "    </tr>\n",
       "    <tr>\n",
       "      <th>1</th>\n",
       "      <td>F0F3098683T</td>\n",
       "      <td>0</td>\n",
       "      <td>1</td>\n",
       "      <td>0</td>\n",
       "      <td>0</td>\n",
       "      <td>0</td>\n",
       "      <td>0</td>\n",
       "      <td>0</td>\n",
       "      <td>0</td>\n",
       "      <td>1</td>\n",
       "      <td>0</td>\n",
       "      <td>0</td>\n",
       "      <td>0</td>\n",
       "      <td>144</td>\n",
       "    </tr>\n",
       "    <tr>\n",
       "      <th>2</th>\n",
       "      <td>5064A38F0DT</td>\n",
       "      <td>0</td>\n",
       "      <td>0</td>\n",
       "      <td>1</td>\n",
       "      <td>0</td>\n",
       "      <td>0</td>\n",
       "      <td>0</td>\n",
       "      <td>0</td>\n",
       "      <td>0</td>\n",
       "      <td>0</td>\n",
       "      <td>0</td>\n",
       "      <td>1</td>\n",
       "      <td>0</td>\n",
       "      <td>49</td>\n",
       "    </tr>\n",
       "    <tr>\n",
       "      <th>3</th>\n",
       "      <td>5C8E90A354T</td>\n",
       "      <td>0</td>\n",
       "      <td>0</td>\n",
       "      <td>1</td>\n",
       "      <td>0</td>\n",
       "      <td>0</td>\n",
       "      <td>0</td>\n",
       "      <td>0</td>\n",
       "      <td>0</td>\n",
       "      <td>0</td>\n",
       "      <td>1</td>\n",
       "      <td>0</td>\n",
       "      <td>0</td>\n",
       "      <td>56</td>\n",
       "    </tr>\n",
       "    <tr>\n",
       "      <th>4</th>\n",
       "      <td>DC1F29D286T</td>\n",
       "      <td>0</td>\n",
       "      <td>0</td>\n",
       "      <td>0</td>\n",
       "      <td>0</td>\n",
       "      <td>0</td>\n",
       "      <td>1</td>\n",
       "      <td>0</td>\n",
       "      <td>0</td>\n",
       "      <td>0</td>\n",
       "      <td>1</td>\n",
       "      <td>0</td>\n",
       "      <td>0</td>\n",
       "      <td>122</td>\n",
       "    </tr>\n",
       "  </tbody>\n",
       "</table>\n",
       "</div>"
      ],
      "text/plain": [
       "        UserId  Fake  click_ad  click_carrousel  phone_call  send_email  \\\n",
       "0  03E7EE785DT     0         0                1           0           0   \n",
       "1  F0F3098683T     0         1                0           0           0   \n",
       "2  5064A38F0DT     0         0                1           0           0   \n",
       "3  5C8E90A354T     0         0                1           0           0   \n",
       "4  DC1F29D286T     0         0                0           0           0   \n",
       "\n",
       "   send_sms  Phone  Motor  Jobs  Holidays  Leisure  Real_State  UserId_code  \n",
       "0         0      0      0     0         0        1           0            1  \n",
       "1         0      0      0     1         0        0           0          144  \n",
       "2         0      0      0     0         0        1           0           49  \n",
       "3         0      0      0     0         1        0           0           56  \n",
       "4         1      0      0     0         1        0           0          122  "
      ]
     },
     "execution_count": 46,
     "metadata": {},
     "output_type": "execute_result"
    }
   ],
   "source": [
    "#LabelEncode the UserId column\n",
    "from sklearn.preprocessing import LabelEncoder\n",
    "lb_make = LabelEncoder()\n",
    "test_data[\"UserId_code\"] = lb_make.fit_transform(test_data[\"UserId\"])\n",
    "test_data.head(5)"
   ]
  },
  {
   "cell_type": "markdown",
   "id": "e5728a5a",
   "metadata": {},
   "source": [
    "# Model, predict and fetch fake Probability"
   ]
  },
  {
   "cell_type": "markdown",
   "id": "83c994ff",
   "metadata": {},
   "source": [
    "### Both Send_email and click_ad are having almost same fake record count, both variables should generate similar results. First Develop model for Send_Email "
   ]
  },
  {
   "cell_type": "code",
   "execution_count": 48,
   "id": "1eb4e4c5",
   "metadata": {},
   "outputs": [
    {
     "data": {
      "text/plain": [
       "((100473, 10), (100473,), (2998, 10))"
      ]
     },
     "execution_count": 48,
     "metadata": {},
     "output_type": "execute_result"
    }
   ],
   "source": [
    "#Select required features for x and y. As both Send_email and click_ad are having simialr fake count lets consider Click_ad as y_value for model prediction\n",
    "features = ['UserId_code', 'click_carrousel','phone_call','send_sms','Phone', 'Motor', 'Jobs','Holidays','Leisure','Real_State']\n",
    "X_train = train_data[features]\n",
    "Y_train = train_data[\"send_email\"]\n",
    "X_test  = test_data[features]\n",
    "X_train.shape, Y_train.shape, X_test.shape"
   ]
  },
  {
   "cell_type": "code",
   "execution_count": 49,
   "id": "26d8ff1c",
   "metadata": {},
   "outputs": [
    {
     "data": {
      "text/plain": [
       "77.93"
      ]
     },
     "execution_count": 49,
     "metadata": {},
     "output_type": "execute_result"
    }
   ],
   "source": [
    "# Logistic Regression\n",
    "\n",
    "logreg = LogisticRegression()\n",
    "logreg.fit(X_train, Y_train)\n",
    "Y_pred_lg = logreg.predict(X_test)\n",
    "acc_log = round(logreg.score(X_train, Y_train) * 100, 2)\n",
    "acc_log"
   ]
  },
  {
   "cell_type": "code",
   "execution_count": 50,
   "id": "c0a82aea",
   "metadata": {},
   "outputs": [
    {
     "data": {
      "text/plain": [
       "85.72"
      ]
     },
     "execution_count": 50,
     "metadata": {},
     "output_type": "execute_result"
    }
   ],
   "source": [
    "# Random Forest\n",
    "\n",
    "random_forest = RandomForestClassifier(n_estimators=100)\n",
    "random_forest.fit(X_train, Y_train)\n",
    "Y_pred_rf = random_forest.predict(X_test)\n",
    "random_forest.score(X_train, Y_train)\n",
    "acc_random_forest = round(random_forest.score(X_train, Y_train) * 100, 2)\n",
    "acc_random_forest"
   ]
  },
  {
   "cell_type": "code",
   "execution_count": 52,
   "id": "5e8177df",
   "metadata": {},
   "outputs": [
    {
     "data": {
      "text/plain": [
       "85.72"
      ]
     },
     "execution_count": 52,
     "metadata": {},
     "output_type": "execute_result"
    }
   ],
   "source": [
    "# Decision Tree\n",
    "\n",
    "decision_tree = DecisionTreeClassifier()\n",
    "decision_tree.fit(X_train, Y_train)\n",
    "Y_pred_dt = decision_tree.predict(X_test)\n",
    "acc_decision_tree = round(decision_tree.score(X_train, Y_train) * 100, 2)\n",
    "acc_decision_tree"
   ]
  },
  {
   "cell_type": "markdown",
   "id": "6ac0e932",
   "metadata": {},
   "source": [
    "### Models for click_ad"
   ]
  },
  {
   "cell_type": "code",
   "execution_count": 53,
   "id": "a4cd6030",
   "metadata": {},
   "outputs": [
    {
     "data": {
      "text/plain": [
       "((100473, 10), (100473,), (2998, 10))"
      ]
     },
     "execution_count": 53,
     "metadata": {},
     "output_type": "execute_result"
    }
   ],
   "source": [
    "#Select required features for x and y. As both Send_email and click_ad are having simialr fake count lets consider Click_ad as y_value for model prediction\n",
    "features = ['UserId_code', 'click_carrousel','phone_call','send_sms','Phone', 'Motor', 'Jobs','Holidays','Leisure','Real_State']\n",
    "X_train = train_data[features]\n",
    "Y_train = train_data[\"click_ad\"]\n",
    "X_test  = test_data[features]\n",
    "X_train.shape, Y_train.shape, X_test.shape"
   ]
  },
  {
   "cell_type": "code",
   "execution_count": 54,
   "id": "e1be7ae5",
   "metadata": {},
   "outputs": [
    {
     "data": {
      "text/plain": [
       "77.92"
      ]
     },
     "execution_count": 54,
     "metadata": {},
     "output_type": "execute_result"
    }
   ],
   "source": [
    "# Logistic Regression\n",
    "\n",
    "logreg = LogisticRegression()\n",
    "logreg.fit(X_train, Y_train)\n",
    "Y_pred_lg = logreg.predict(X_test)\n",
    "acc_log = round(logreg.score(X_train, Y_train) * 100, 2)\n",
    "acc_log"
   ]
  },
  {
   "cell_type": "code",
   "execution_count": 55,
   "id": "1d8c240c",
   "metadata": {},
   "outputs": [
    {
     "data": {
      "text/plain": [
       "85.72"
      ]
     },
     "execution_count": 55,
     "metadata": {},
     "output_type": "execute_result"
    }
   ],
   "source": [
    "# Random Forest\n",
    "\n",
    "random_forest = RandomForestClassifier(n_estimators=100)\n",
    "random_forest.fit(X_train, Y_train)\n",
    "Y_pred_rf = random_forest.predict(X_test)\n",
    "random_forest.score(X_train, Y_train)\n",
    "acc_random_forest = round(random_forest.score(X_train, Y_train) * 100, 2)\n",
    "acc_random_forest"
   ]
  },
  {
   "cell_type": "code",
   "execution_count": 56,
   "id": "4c9a9a96",
   "metadata": {},
   "outputs": [
    {
     "data": {
      "text/plain": [
       "85.72"
      ]
     },
     "execution_count": 56,
     "metadata": {},
     "output_type": "execute_result"
    }
   ],
   "source": [
    "# Decision Tree\n",
    "\n",
    "decision_tree = DecisionTreeClassifier()\n",
    "decision_tree.fit(X_train, Y_train)\n",
    "Y_pred_dt = decision_tree.predict(X_test)\n",
    "acc_decision_tree = round(decision_tree.score(X_train, Y_train) * 100, 2)\n",
    "acc_decision_tree"
   ]
  },
  {
   "cell_type": "markdown",
   "id": "64f87c32",
   "metadata": {},
   "source": [
    "# Model Evaluation"
   ]
  },
  {
   "cell_type": "code",
   "execution_count": 15,
   "id": "f2d60dc7",
   "metadata": {},
   "outputs": [
    {
     "data": {
      "text/html": [
       "<div>\n",
       "<style scoped>\n",
       "    .dataframe tbody tr th:only-of-type {\n",
       "        vertical-align: middle;\n",
       "    }\n",
       "\n",
       "    .dataframe tbody tr th {\n",
       "        vertical-align: top;\n",
       "    }\n",
       "\n",
       "    .dataframe thead th {\n",
       "        text-align: right;\n",
       "    }\n",
       "</style>\n",
       "<table border=\"1\" class=\"dataframe\">\n",
       "  <thead>\n",
       "    <tr style=\"text-align: right;\">\n",
       "      <th></th>\n",
       "      <th>Model</th>\n",
       "      <th>Score</th>\n",
       "    </tr>\n",
       "  </thead>\n",
       "  <tbody>\n",
       "    <tr>\n",
       "      <th>1</th>\n",
       "      <td>Random Forest</td>\n",
       "      <td>85.72</td>\n",
       "    </tr>\n",
       "    <tr>\n",
       "      <th>2</th>\n",
       "      <td>Decision Tree</td>\n",
       "      <td>85.72</td>\n",
       "    </tr>\n",
       "    <tr>\n",
       "      <th>0</th>\n",
       "      <td>Logistic Regression</td>\n",
       "      <td>77.92</td>\n",
       "    </tr>\n",
       "  </tbody>\n",
       "</table>\n",
       "</div>"
      ],
      "text/plain": [
       "                 Model  Score\n",
       "1        Random Forest  85.72\n",
       "2        Decision Tree  85.72\n",
       "0  Logistic Regression  77.92"
      ]
     },
     "execution_count": 15,
     "metadata": {},
     "output_type": "execute_result"
    }
   ],
   "source": [
    "#Ealuate All Models\n",
    "models = pd.DataFrame({\n",
    "    'Model': [ 'Logistic Regression', \n",
    "              'Random Forest','Decision Tree'],\n",
    "    'Score': [acc_log, acc_random_forest, acc_decision_tree]})\n",
    "models.sort_values(by='Score', ascending=False)"
   ]
  },
  {
   "cell_type": "markdown",
   "id": "84ed32f0",
   "metadata": {},
   "source": [
    "## While both Decision Tree and Random Forest score the same, we choose to use Random Forest as they correct for decision trees' habit of overfitting to their training set"
   ]
  },
  {
   "cell_type": "code",
   "execution_count": 57,
   "id": "54956b11",
   "metadata": {},
   "outputs": [],
   "source": [
    "Final_Output_File = pd.DataFrame({\n",
    "        \"UserId\": test_data[\"UserId\"],\n",
    "        \"Is_Fake_Probability\": Y_pred_rf\n",
    "    })"
   ]
  },
  {
   "cell_type": "code",
   "execution_count": 18,
   "id": "915d5b8b",
   "metadata": {},
   "outputs": [
    {
     "data": {
      "text/html": [
       "<div>\n",
       "<style scoped>\n",
       "    .dataframe tbody tr th:only-of-type {\n",
       "        vertical-align: middle;\n",
       "    }\n",
       "\n",
       "    .dataframe tbody tr th {\n",
       "        vertical-align: top;\n",
       "    }\n",
       "\n",
       "    .dataframe thead th {\n",
       "        text-align: right;\n",
       "    }\n",
       "</style>\n",
       "<table border=\"1\" class=\"dataframe\">\n",
       "  <thead>\n",
       "    <tr style=\"text-align: right;\">\n",
       "      <th></th>\n",
       "      <th>UserId</th>\n",
       "      <th>Is_Fake_Probability</th>\n",
       "    </tr>\n",
       "  </thead>\n",
       "  <tbody>\n",
       "    <tr>\n",
       "      <th>0</th>\n",
       "      <td>03E7EE785DT</td>\n",
       "      <td>0</td>\n",
       "    </tr>\n",
       "    <tr>\n",
       "      <th>1</th>\n",
       "      <td>F0F3098683T</td>\n",
       "      <td>0</td>\n",
       "    </tr>\n",
       "    <tr>\n",
       "      <th>2</th>\n",
       "      <td>5064A38F0DT</td>\n",
       "      <td>0</td>\n",
       "    </tr>\n",
       "    <tr>\n",
       "      <th>3</th>\n",
       "      <td>5C8E90A354T</td>\n",
       "      <td>0</td>\n",
       "    </tr>\n",
       "    <tr>\n",
       "      <th>4</th>\n",
       "      <td>DC1F29D286T</td>\n",
       "      <td>0</td>\n",
       "    </tr>\n",
       "    <tr>\n",
       "      <th>...</th>\n",
       "      <td>...</td>\n",
       "      <td>...</td>\n",
       "    </tr>\n",
       "    <tr>\n",
       "      <th>2993</th>\n",
       "      <td>1B47910B14T</td>\n",
       "      <td>0</td>\n",
       "    </tr>\n",
       "    <tr>\n",
       "      <th>2994</th>\n",
       "      <td>35F59C96B7T</td>\n",
       "      <td>0</td>\n",
       "    </tr>\n",
       "    <tr>\n",
       "      <th>2995</th>\n",
       "      <td>F0F3098683T</td>\n",
       "      <td>1</td>\n",
       "    </tr>\n",
       "    <tr>\n",
       "      <th>2996</th>\n",
       "      <td>DF4F1E3B6ET</td>\n",
       "      <td>0</td>\n",
       "    </tr>\n",
       "    <tr>\n",
       "      <th>2997</th>\n",
       "      <td>30E94533A4T</td>\n",
       "      <td>0</td>\n",
       "    </tr>\n",
       "  </tbody>\n",
       "</table>\n",
       "<p>2998 rows × 2 columns</p>\n",
       "</div>"
      ],
      "text/plain": [
       "           UserId  Is_Fake_Probability\n",
       "0     03E7EE785DT                    0\n",
       "1     F0F3098683T                    0\n",
       "2     5064A38F0DT                    0\n",
       "3     5C8E90A354T                    0\n",
       "4     DC1F29D286T                    0\n",
       "...           ...                  ...\n",
       "2993  1B47910B14T                    0\n",
       "2994  35F59C96B7T                    0\n",
       "2995  F0F3098683T                    1\n",
       "2996  DF4F1E3B6ET                    0\n",
       "2997  30E94533A4T                    0\n",
       "\n",
       "[2998 rows x 2 columns]"
      ]
     },
     "execution_count": 18,
     "metadata": {},
     "output_type": "execute_result"
    }
   ],
   "source": [
    "#Generate Output file as csv\n",
    "Final_Output_File.to_csv('../output/Final_Output_File.csv', index=False)\n",
    "Final_Output_File"
   ]
  },
  {
   "cell_type": "code",
   "execution_count": null,
   "id": "f124a616",
   "metadata": {},
   "outputs": [],
   "source": []
  }
 ],
 "metadata": {
  "kernelspec": {
   "display_name": "Python 3 (ipykernel)",
   "language": "python",
   "name": "python3"
  },
  "language_info": {
   "codemirror_mode": {
    "name": "ipython",
    "version": 3
   },
   "file_extension": ".py",
   "mimetype": "text/x-python",
   "name": "python",
   "nbconvert_exporter": "python",
   "pygments_lexer": "ipython3",
   "version": "3.9.7"
  }
 },
 "nbformat": 4,
 "nbformat_minor": 5
}
